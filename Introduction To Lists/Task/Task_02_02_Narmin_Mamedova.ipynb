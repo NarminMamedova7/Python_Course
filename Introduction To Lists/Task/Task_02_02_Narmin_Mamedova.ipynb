{
  "nbformat": 4,
  "nbformat_minor": 0,
  "metadata": {
    "colab": {
      "provenance": []
    },
    "kernelspec": {
      "name": "python3",
      "display_name": "Python 3"
    },
    "language_info": {
      "name": "python"
    }
  },
  "cells": [
    {
      "cell_type": "markdown",
      "source": [
        "1) Create a class with names of fruits and add a new fruit, \"fig\", to the end of the list and print the updated list.\n",
        "\n",
        "2) Create a list with the ages of the children in the class and print the length of the list.\n",
        "\n",
        "3) Insert a new fruit, \"grape\", at the second position in the list and print the updated list.\n",
        "\n",
        "4) Remove a specific fruit, \"fig\", from the list using the remove method and print the updated list.\n",
        "\n",
        "5) Print the last fruit in the list after sorting it in reverse alphabetical order using the sort method.\n",
        "\n",
        "6) Create a copy of the list sorted in alphabetical order without modifying the original list, and print both lists.\n",
        "\n",
        "7) Delete the values from the first element up to the fourth element in the list given below\n",
        "\n",
        "zodiac_signs = [\"Aries\", \"Taurus\", \"Gemini\", \"Cancer\", \"Capricorn\"]\n",
        "\n",
        "8) Prompt the user to enter a name, then print the second letter of the entered name to the screen.\n",
        "\n",
        "9) Create a program that asks the user to enter their name and their age. Print out a message addressed to them that tells them the year that they will turn 100 years old. For example,\n",
        "\n",
        "What is your name? Khalid\n",
        "\n",
        "How old are you? 23\n",
        "\n",
        "Khalid will be 100 years old in the year 2101\n",
        "\n",
        "10) Write a Python program that accepts an integer (n) and computes the value of n+nn+nnn. Get Input from user. For example, 5 + 55 + 555 = 615"
      ],
      "metadata": {
        "id": "4DBCTW61-RpC"
      }
    },
    {
      "cell_type": "markdown",
      "source": [
        "**Task 1**"
      ],
      "metadata": {
        "id": "GOMA1b0x16Mq"
      }
    },
    {
      "cell_type": "code",
      "execution_count": null,
      "metadata": {
        "colab": {
          "base_uri": "https://localhost:8080/"
        },
        "id": "XzGmMmoJ1rjp",
        "outputId": "07bf08cc-17f3-4818-ce3f-82bd4780ce53"
      },
      "outputs": [
        {
          "output_type": "stream",
          "name": "stdout",
          "text": [
            "Original list:  ['apple', 'pear', 'watermelon', 'melon']\n",
            "Updated list:  ['apple', 'pear', 'watermelon', 'melon', 'fig']\n"
          ]
        }
      ],
      "source": [
        "list1=['apple','pear','watermelon','melon']\n",
        "print(\"Original list: \", list1)\n",
        "list1.append('fig')\n",
        "print(\"Updated list: \", list1)"
      ]
    },
    {
      "cell_type": "markdown",
      "source": [
        "**Task 2**"
      ],
      "metadata": {
        "id": "c123gNsz2rMv"
      }
    },
    {
      "cell_type": "code",
      "source": [
        "list_ages=[15,20,16,18,14]\n",
        "print(len(list_ages))"
      ],
      "metadata": {
        "colab": {
          "base_uri": "https://localhost:8080/"
        },
        "id": "SqJ7i1Cu211Q",
        "outputId": "f9995c51-8626-407e-b7dd-95f9465e71ab"
      },
      "execution_count": null,
      "outputs": [
        {
          "output_type": "stream",
          "name": "stdout",
          "text": [
            "5\n"
          ]
        }
      ]
    },
    {
      "cell_type": "markdown",
      "source": [
        "**Task 3**"
      ],
      "metadata": {
        "id": "0MgO4M043JIy"
      }
    },
    {
      "cell_type": "code",
      "source": [
        "list3=['apple','pear','watermelon','melon']\n",
        "print(\"Original list: \", list3)\n",
        "list3.insert(2, 'grape')\n",
        "print(\"Updated list: \", list3)"
      ],
      "metadata": {
        "colab": {
          "base_uri": "https://localhost:8080/"
        },
        "id": "6wl0TtE33LRA",
        "outputId": "123669ce-0486-4a0d-b6b3-486dbe111867"
      },
      "execution_count": null,
      "outputs": [
        {
          "output_type": "stream",
          "name": "stdout",
          "text": [
            "Original list:  ['apple', 'pear', 'watermelon', 'melon']\n",
            "Updated list:  ['apple', 'pear', 'grape', 'watermelon', 'melon']\n"
          ]
        }
      ]
    },
    {
      "cell_type": "markdown",
      "source": [
        "**Task 4**"
      ],
      "metadata": {
        "id": "9Pi3eqTP302X"
      }
    },
    {
      "cell_type": "code",
      "source": [
        "list4=['apple','pear','fig','watermelon','melon']\n",
        "print(\"Original list: \", list4)\n",
        "list4.remove('fig')\n",
        "print(\"Updated list: \", list4)"
      ],
      "metadata": {
        "colab": {
          "base_uri": "https://localhost:8080/"
        },
        "id": "xmT_Daxx32pO",
        "outputId": "da96cbfd-88e2-4d39-cfcd-03b9ce0a837c"
      },
      "execution_count": null,
      "outputs": [
        {
          "output_type": "stream",
          "name": "stdout",
          "text": [
            "Original list:  ['apple', 'pear', 'fig', 'watermelon', 'melon']\n",
            "Updated list:  ['apple', 'pear', 'watermelon', 'melon']\n"
          ]
        }
      ]
    },
    {
      "cell_type": "markdown",
      "source": [
        "**Task 5**"
      ],
      "metadata": {
        "id": "Ujco6iuB4PiS"
      }
    },
    {
      "cell_type": "code",
      "source": [
        "list5=['apple','pear','fig','watermelon','melon']\n",
        "print(\"Original list: \", list5)\n",
        "list5.sort(reverse=True)\n",
        "print(\"Sorted list: \", list5)\n",
        "print(\"Last fruit in the list after sorting: \",list5[-1])"
      ],
      "metadata": {
        "colab": {
          "base_uri": "https://localhost:8080/"
        },
        "id": "IPCtNSY94RQI",
        "outputId": "43bba9a7-1553-4822-f5e3-5947d34e1931"
      },
      "execution_count": null,
      "outputs": [
        {
          "output_type": "stream",
          "name": "stdout",
          "text": [
            "Original list:  ['apple', 'pear', 'fig', 'watermelon', 'melon']\n",
            "Sorted list:  ['watermelon', 'pear', 'melon', 'fig', 'apple']\n",
            "Last fruit in the list after sorting:  apple\n"
          ]
        }
      ]
    },
    {
      "cell_type": "markdown",
      "source": [
        "**Task 6**"
      ],
      "metadata": {
        "id": "FPwXrMiW40gv"
      }
    },
    {
      "cell_type": "code",
      "source": [
        "list6=['apple','pear','fig','watermelon','melon']\n",
        "print(\"Original list: \", list6)\n",
        "list7=sorted(list6)\n",
        "print(\"Sorted list: \", list7)"
      ],
      "metadata": {
        "colab": {
          "base_uri": "https://localhost:8080/"
        },
        "id": "I6UGxKYa42eH",
        "outputId": "9cdb38b0-8095-406a-97b4-dddca2cdf514"
      },
      "execution_count": null,
      "outputs": [
        {
          "output_type": "stream",
          "name": "stdout",
          "text": [
            "Original list:  ['apple', 'pear', 'fig', 'watermelon', 'melon']\n",
            "Sorted list:  ['apple', 'fig', 'melon', 'pear', 'watermelon']\n"
          ]
        }
      ]
    },
    {
      "cell_type": "markdown",
      "source": [
        "**Task 7**"
      ],
      "metadata": {
        "id": "CGyaCXPK5ccQ"
      }
    },
    {
      "cell_type": "code",
      "source": [
        "zodiac_signs = [\"Aries\", \"Taurus\", \"Gemini\", \"Cancer\", \"Capricorn\"]\n",
        "print(\"Original list: \", zodiac_signs)\n",
        "del zodiac_signs[0:4]\n",
        "print(\"Updated list: \", zodiac_signs)"
      ],
      "metadata": {
        "colab": {
          "base_uri": "https://localhost:8080/"
        },
        "id": "gchuZGX45ewc",
        "outputId": "80908574-2815-4508-f0c1-06e23ea6f1af"
      },
      "execution_count": null,
      "outputs": [
        {
          "output_type": "stream",
          "name": "stdout",
          "text": [
            "Original list:  ['Aries', 'Taurus', 'Gemini', 'Cancer', 'Capricorn']\n",
            "Updated list:  ['Capricorn']\n"
          ]
        }
      ]
    },
    {
      "cell_type": "markdown",
      "source": [
        "**Task 8**"
      ],
      "metadata": {
        "id": "_f_QldGr5-l8"
      }
    },
    {
      "cell_type": "code",
      "source": [
        "name=input(\"Enter a name: \")\n",
        "print(\"Second letter of the entered name: \", name[1])"
      ],
      "metadata": {
        "colab": {
          "base_uri": "https://localhost:8080/"
        },
        "id": "EaUn8DOj6AyK",
        "outputId": "aa4a2b8a-31da-4b54-f67b-57549ac05206"
      },
      "execution_count": null,
      "outputs": [
        {
          "output_type": "stream",
          "name": "stdout",
          "text": [
            "Enter a name: Narmin\n",
            "Second letter of the entered name:  a\n"
          ]
        }
      ]
    },
    {
      "cell_type": "markdown",
      "source": [
        "**Task 9**"
      ],
      "metadata": {
        "id": "t9ezDwA66tYv"
      }
    },
    {
      "cell_type": "code",
      "source": [
        "name1=input(\"What is your name? \")\n",
        "age1=int(input(\"How old are you? \"))\n",
        "print(f\"{name1} will be 100 years old in the year {2024-age1+100}\")"
      ],
      "metadata": {
        "colab": {
          "base_uri": "https://localhost:8080/"
        },
        "id": "sdw3D6KL6vrz",
        "outputId": "56cfcc14-67bb-48d4-fbbe-7f4e1a934b8a"
      },
      "execution_count": null,
      "outputs": [
        {
          "output_type": "stream",
          "name": "stdout",
          "text": [
            "What is your name? Narmin\n",
            "How old are you? 21\n",
            "Narmin will be 100 years old in the year 2103\n"
          ]
        }
      ]
    },
    {
      "cell_type": "markdown",
      "source": [
        "**Task 10**"
      ],
      "metadata": {
        "id": "JAkbowo27uBg"
      }
    },
    {
      "cell_type": "code",
      "source": [
        "n=input(\"Enter an integer n: \" )\n",
        "print(f\"{n}+{n+n}+{n+n+n}=\", int(n)+int(n+n)+int(n+n+n))"
      ],
      "metadata": {
        "colab": {
          "base_uri": "https://localhost:8080/"
        },
        "id": "oldYm-je7wZ4",
        "outputId": "97b3d551-4b5c-43f4-bcef-ac81edbd19a6"
      },
      "execution_count": null,
      "outputs": [
        {
          "output_type": "stream",
          "name": "stdout",
          "text": [
            "Enter an integer n: 5\n",
            "5+55+555= 615\n"
          ]
        }
      ]
    }
  ]
}