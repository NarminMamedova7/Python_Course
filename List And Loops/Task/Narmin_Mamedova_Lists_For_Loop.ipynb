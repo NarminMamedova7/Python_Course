{
  "nbformat": 4,
  "nbformat_minor": 0,
  "metadata": {
    "colab": {
      "provenance": []
    },
    "kernelspec": {
      "name": "python3",
      "display_name": "Python 3"
    },
    "language_info": {
      "name": "python"
    }
  },
  "cells": [
    {
      "cell_type": "markdown",
      "source": [
        "**Task 1**"
      ],
      "metadata": {
        "id": "ShDcVdGvFJTE"
      }
    },
    {
      "cell_type": "code",
      "source": [
        "l=['a', 'b', 'c', 'd']\n",
        "string=\"\"\n",
        "for i in l:\n",
        "  string+=str(i)\n",
        "print(f\"{l} -> \\\"{string}\\\"\")"
      ],
      "metadata": {
        "colab": {
          "base_uri": "https://localhost:8080/"
        },
        "id": "RWJVApdwFLbC",
        "outputId": "326f13b0-900e-4c24-a4ae-b1d2deb8464d"
      },
      "execution_count": 30,
      "outputs": [
        {
          "output_type": "stream",
          "name": "stdout",
          "text": [
            "['a', 'b', 'c', 'd'] -> \"abcd\"\n"
          ]
        }
      ]
    },
    {
      "cell_type": "markdown",
      "source": [
        "**Task 2**"
      ],
      "metadata": {
        "id": "Y3Z--ADtG75q"
      }
    },
    {
      "cell_type": "code",
      "source": [
        "pi=3.14\n",
        "r=int(input(\"Enter radius: \"))\n",
        "area=pi*r**2\n",
        "print(f\"The area of a circle: {area}\")"
      ],
      "metadata": {
        "colab": {
          "base_uri": "https://localhost:8080/"
        },
        "id": "AfjG1rWvG-I6",
        "outputId": "08ef3acb-774c-43b2-d0a1-a5222a8cf9ec"
      },
      "execution_count": 9,
      "outputs": [
        {
          "output_type": "stream",
          "name": "stdout",
          "text": [
            "Enter radius: 2\n",
            "The area of a circle: 12.56\n"
          ]
        }
      ]
    },
    {
      "cell_type": "markdown",
      "source": [
        "**Task 3**"
      ],
      "metadata": {
        "id": "raB5RqYVHgMY"
      }
    },
    {
      "cell_type": "code",
      "source": [
        "first_number=int(input(\"Enter first number:\\n\"))\n",
        "second_number=int(input(\"Enter second number:\\n\"))\n",
        "third_number=int(input(\"Enter third number: \\n\"))\n",
        "list_numbers=[first_number,second_number,third_number]\n",
        "sorted_list=sorted(list_numbers)[::-1]\n",
        "string=\"\"\n",
        "for i in sorted_list:\n",
        "  string+=str(i)\n",
        "print(f\"Output: {int(string)}\")"
      ],
      "metadata": {
        "colab": {
          "base_uri": "https://localhost:8080/"
        },
        "id": "QgUyfR6WHiBV",
        "outputId": "ff36e8fe-1388-4da5-e4c2-c05cb5114380"
      },
      "execution_count": 34,
      "outputs": [
        {
          "output_type": "stream",
          "name": "stdout",
          "text": [
            "Enter first number:\n",
            "2\n",
            "Enter second number:\n",
            "6\n",
            "Enter third number: \n",
            "8\n",
            "Output: 862\n"
          ]
        }
      ]
    },
    {
      "cell_type": "markdown",
      "source": [
        "**Task 4**"
      ],
      "metadata": {
        "id": "LdPIQI_HNlpr"
      }
    },
    {
      "cell_type": "code",
      "source": [
        "n=int(input(\"Enter number of elements: \"))\n",
        "l=[]\n",
        "for i in range(0, n):\n",
        "    e=int(input())\n",
        "    l.append(e)\n",
        "square_list=[]\n",
        "for i in l:\n",
        "  square_list.append(i**2)\n",
        "print(f\"Input:\\n{l}\")\n",
        "print(f\"Output:\\n{square_list}\")"
      ],
      "metadata": {
        "colab": {
          "base_uri": "https://localhost:8080/"
        },
        "id": "WMm7JIbmNnk5",
        "outputId": "cf63abca-87ca-4466-9bf1-917d9d1061b2"
      },
      "execution_count": 38,
      "outputs": [
        {
          "output_type": "stream",
          "name": "stdout",
          "text": [
            "Enter number of elements: 5\n",
            "1\n",
            "2\n",
            "3\n",
            "4\n",
            "5\n",
            "Input:\n",
            "[1, 2, 3, 4, 5]\n",
            "Output:\n",
            "[1, 4, 9, 16, 25]\n"
          ]
        }
      ]
    },
    {
      "cell_type": "markdown",
      "source": [
        "**Task 5**"
      ],
      "metadata": {
        "id": "Zzi6UneZPlkX"
      }
    },
    {
      "cell_type": "code",
      "source": [
        "n=int(input(\"Enter number of elements: \"))\n",
        "l=[]\n",
        "for i in range(0, n):\n",
        "    e=int(input())\n",
        "    l.append(e)\n",
        "sum_elements=l[0]\n",
        "sum_list=[l[0]]\n",
        "for i in range(1,len(l)):\n",
        "  sum_elements+=l[i]\n",
        "  sum_list.append(sum_elements)\n",
        "print(f\"Input:\\n{l}\")\n",
        "print(f\"Output:\\n{sum_list}\")"
      ],
      "metadata": {
        "colab": {
          "base_uri": "https://localhost:8080/"
        },
        "id": "V_scOksDPnLE",
        "outputId": "434d3e42-2b1d-4e3e-ba65-849fd240c99d"
      },
      "execution_count": 42,
      "outputs": [
        {
          "output_type": "stream",
          "name": "stdout",
          "text": [
            "Enter number of elements: 4\n",
            "1\n",
            "2\n",
            "3\n",
            "4\n",
            "Input:\n",
            "[1, 2, 3, 4]\n",
            "Output:\n",
            "[1, 3, 6, 10]\n"
          ]
        }
      ]
    }
  ]
}