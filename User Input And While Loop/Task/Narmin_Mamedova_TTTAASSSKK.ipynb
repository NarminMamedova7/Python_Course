{
  "nbformat": 4,
  "nbformat_minor": 0,
  "metadata": {
    "colab": {
      "provenance": []
    },
    "kernelspec": {
      "name": "python3",
      "display_name": "Python 3"
    },
    "language_info": {
      "name": "python"
    }
  },
  "cells": [
    {
      "cell_type": "markdown",
      "source": [
        "**Task 1**"
      ],
      "metadata": {
        "id": "HwOn2wXvqHKc"
      }
    },
    {
      "cell_type": "code",
      "execution_count": 2,
      "metadata": {
        "colab": {
          "base_uri": "https://localhost:8080/"
        },
        "id": "UGz6q1fUf6vO",
        "outputId": "e93a3366-ace0-45ba-f397-0b1e4c54a6aa"
      },
      "outputs": [
        {
          "output_type": "stream",
          "name": "stdout",
          "text": [
            "['Physics', 'Math', 'history']\n"
          ]
        }
      ],
      "source": [
        "sample_dict = {\n",
        "    'Physics': 82,\n",
        "    'Math': 65,\n",
        "    'history': 75\n",
        "}\n",
        "sample_list=[]\n",
        "for i in sample_dict.keys():\n",
        "  sample_list.append(i)\n",
        "print(sample_list)"
      ]
    },
    {
      "cell_type": "markdown",
      "source": [
        "**Task 2**"
      ],
      "metadata": {
        "id": "2gRcg8nZwq40"
      }
    },
    {
      "cell_type": "code",
      "source": [
        "sample_dict = {\n",
        "    'Physics': 82,\n",
        "    'Math': 65,\n",
        "    'history': 75,\n",
        "    'chemistry': 89,\n",
        "    'GK': 50\n",
        "}\n",
        "sum=0\n",
        "for i in sample_dict.values():\n",
        "  sum+=i\n",
        "print(f\"Expected Output: {sum}\")"
      ],
      "metadata": {
        "colab": {
          "base_uri": "https://localhost:8080/"
        },
        "id": "6MloaGNNwZE1",
        "outputId": "7843ab5e-6d72-4a54-8c0b-81fabf6f1916"
      },
      "execution_count": 4,
      "outputs": [
        {
          "output_type": "stream",
          "name": "stdout",
          "text": [
            "Expected Output: 361\n"
          ]
        }
      ]
    },
    {
      "cell_type": "markdown",
      "source": [
        "**Task 3**"
      ],
      "metadata": {
        "id": "GxqWOYdExThP"
      }
    },
    {
      "cell_type": "code",
      "source": [
        "sample_dict = {\n",
        "  'Physics': 82,\n",
        "  'Math': 65,\n",
        "  'history': 75\n",
        "}\n",
        "for i,j in sample_dict.items():\n",
        "  min=j\n",
        "  for m,n in sample_dict.items():\n",
        "    if n<j:\n",
        "      min=n\n",
        "      key=m\n",
        "print(f\"Expected Output: {key}\")"
      ],
      "metadata": {
        "colab": {
          "base_uri": "https://localhost:8080/"
        },
        "id": "ouUt5ySqxJo3",
        "outputId": "4eb6e03f-8bb4-4b7d-a36e-1a8a2a3ac924"
      },
      "execution_count": 9,
      "outputs": [
        {
          "output_type": "stream",
          "name": "stdout",
          "text": [
            "Expected Output: Math\n"
          ]
        }
      ]
    },
    {
      "cell_type": "markdown",
      "source": [
        "**Task 4**"
      ],
      "metadata": {
        "id": "PDwnjAQw0cpp"
      }
    },
    {
      "cell_type": "code",
      "source": [
        "sample_dict = {\n",
        "    \"name\": \"Khalid\",\n",
        "    \"age\": 23,\n",
        "    \"salary\": 1000,\n",
        "    \"city\": \"Baku\"\n",
        "}\n",
        "# Keys to remove\n",
        "keys = [\"name\", \"salary\"]\n",
        "del sample_dict[keys[0]]\n",
        "del sample_dict[keys[1]]\n",
        "print(f\"Expected Output: {sample_dict}\")"
      ],
      "metadata": {
        "colab": {
          "base_uri": "https://localhost:8080/"
        },
        "id": "obnjmlTmzPr6",
        "outputId": "15cd5578-4597-4d05-e8b7-a03a32811383"
      },
      "execution_count": 16,
      "outputs": [
        {
          "output_type": "stream",
          "name": "stdout",
          "text": [
            "Expected Output: {'age': 23, 'city': 'Baku'}\n"
          ]
        }
      ]
    },
    {
      "cell_type": "markdown",
      "source": [
        "**Task 5**"
      ],
      "metadata": {
        "id": "WCuqPnmiAAm5"
      }
    },
    {
      "cell_type": "code",
      "source": [
        "sample_dict = {\n",
        "    \"name\": \"Khalid\",\n",
        "    \"age\": 23,\n",
        "    \"salary\": 1000,\n",
        "    \"city\": \"Baku\"}\n",
        "# Keys to extract\n",
        "keys = [\"name\", \"salary\"]\n",
        "dict2={}\n",
        "dict2[keys[0]] = sample_dict[keys[0]]\n",
        "dict2[keys[1]] = sample_dict[keys[1]]\n",
        "print(f\"Expected Output: {dict2}\")"
      ],
      "metadata": {
        "colab": {
          "base_uri": "https://localhost:8080/"
        },
        "collapsed": true,
        "id": "fzUf3FEv1iYi",
        "outputId": "e8e3db19-0451-4cb0-afe2-b10bb4759707"
      },
      "execution_count": 53,
      "outputs": [
        {
          "output_type": "stream",
          "name": "stdout",
          "text": [
            "Expected Output: {'name': 'Khalid', 'salary': 1000}\n"
          ]
        }
      ]
    },
    {
      "cell_type": "markdown",
      "source": [
        "**Task 6**"
      ],
      "metadata": {
        "id": "pvmwHOmPBrO2"
      }
    },
    {
      "cell_type": "code",
      "source": [
        "count=0\n",
        "sum=0\n",
        "while count<10:\n",
        "  number=int(input(\"Enter number: \"))\n",
        "  sum+=number\n",
        "  count+=1\n",
        "print(f\"Average of entered numbers: {sum/count}\")"
      ],
      "metadata": {
        "colab": {
          "base_uri": "https://localhost:8080/"
        },
        "id": "SCFxeyP7As-z",
        "outputId": "80ff038d-41ba-4113-c934-0a509d14ae7a"
      },
      "execution_count": 21,
      "outputs": [
        {
          "output_type": "stream",
          "name": "stdout",
          "text": [
            "Enter number: 1\n",
            "Enter number: 2\n",
            "Enter number: 3\n",
            "Enter number: 4\n",
            "Enter number: 5\n",
            "Enter number: 6\n",
            "Enter number: 7\n",
            "Enter number: 8\n",
            "Enter number: 9\n",
            "Enter number: 10\n",
            "Average of entered numbers: 5.5\n"
          ]
        }
      ]
    },
    {
      "cell_type": "markdown",
      "source": [
        "**Task 7**"
      ],
      "metadata": {
        "id": "e91GL1NzD34X"
      }
    },
    {
      "cell_type": "code",
      "source": [
        "result=\"\"\n",
        "number=1\n",
        "while number<=10:\n",
        "  result+=f\"{number}*{24}={number*24}\\n\"\n",
        "  number+=1\n",
        "print(result)"
      ],
      "metadata": {
        "colab": {
          "base_uri": "https://localhost:8080/"
        },
        "id": "BedRz-SzD6QB",
        "outputId": "252d7660-39b3-47fb-97a5-0a8e1af85794"
      },
      "execution_count": 34,
      "outputs": [
        {
          "output_type": "stream",
          "name": "stdout",
          "text": [
            "1*24=24\n",
            "2*24=48\n",
            "3*24=72\n",
            "4*24=96\n",
            "5*24=120\n",
            "6*24=144\n",
            "7*24=168\n",
            "8*24=192\n",
            "9*24=216\n",
            "10*24=240\n",
            "\n"
          ]
        }
      ]
    },
    {
      "cell_type": "markdown",
      "source": [
        "**Task 8**"
      ],
      "metadata": {
        "id": "U3rJ21oAEQQn"
      }
    },
    {
      "cell_type": "code",
      "source": [
        "number=int(input(\"Enter number: \"))\n",
        "number1=number\n",
        "result=1\n",
        "string=\"\"\n",
        "while (number>0):\n",
        "  result*=number\n",
        "  number-=1\n",
        "  string+=str(number+1)+\"*\"\n",
        "print(f\"Factorial of entered number: {number1}!={string}={result}\")"
      ],
      "metadata": {
        "colab": {
          "base_uri": "https://localhost:8080/"
        },
        "id": "lEazaKAfEDfj",
        "outputId": "28f7ef54-537e-448b-b731-f9c6cf9569c6"
      },
      "execution_count": 26,
      "outputs": [
        {
          "output_type": "stream",
          "name": "stdout",
          "text": [
            "Enter number: 5\n",
            "Factorial of entered number: 5!=5*4*3*2*1*=120\n"
          ]
        }
      ]
    },
    {
      "cell_type": "markdown",
      "source": [
        "**Task 9**"
      ],
      "metadata": {
        "id": "2o-2iS3CEpff"
      }
    },
    {
      "cell_type": "code",
      "source": [
        "n=int(input(\"Enter number: \"))\n",
        "sum1=0\n",
        "for i in str(n):\n",
        "  sum1+=int(i)\n",
        "print(f\"Sum of digits of given number: {sum1}\")"
      ],
      "metadata": {
        "colab": {
          "base_uri": "https://localhost:8080/"
        },
        "id": "kcCN2crBEkcl",
        "outputId": "ea8d05fc-82fd-4cff-d465-26485310ea99"
      },
      "execution_count": 28,
      "outputs": [
        {
          "output_type": "stream",
          "name": "stdout",
          "text": [
            "Enter number: 123456\n",
            "Sum of digits of given number: 21\n"
          ]
        }
      ]
    },
    {
      "cell_type": "markdown",
      "source": [
        "**Task 10**"
      ],
      "metadata": {
        "id": "fi6DFozcFt_l"
      }
    },
    {
      "cell_type": "code",
      "source": [
        "s=input(\"Enter string: \")\n",
        "print(f\"Number of characters in the string: {len(s)}\")\n",
        "# or\n",
        "count=0\n",
        "for i in s:\n",
        "  count+=1\n",
        "print(f\"Number of characters in the string: {count}\")\n",
        "# or\n",
        "count1=0\n",
        "while count1 < len(s):\n",
        "  count1+=1\n",
        "print(f\"Number of characters in the string: {count1}\")"
      ],
      "metadata": {
        "colab": {
          "base_uri": "https://localhost:8080/"
        },
        "id": "6xfRRjB7Fn_7",
        "outputId": "ae73e439-799e-4491-ac31-7bbbaf69ce4b"
      },
      "execution_count": 33,
      "outputs": [
        {
          "output_type": "stream",
          "name": "stdout",
          "text": [
            "Enter string: narmin\n",
            "Number of characters in the string: 6\n",
            "Number of characters in the string: 6\n",
            "Number of characters in the string: 6\n"
          ]
        }
      ]
    }
  ]
}