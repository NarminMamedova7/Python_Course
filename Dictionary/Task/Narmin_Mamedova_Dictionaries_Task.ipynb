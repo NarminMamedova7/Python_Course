{
  "nbformat": 4,
  "nbformat_minor": 0,
  "metadata": {
    "colab": {
      "provenance": []
    },
    "kernelspec": {
      "name": "python3",
      "display_name": "Python 3"
    },
    "language_info": {
      "name": "python"
    }
  },
  "cells": [
    {
      "cell_type": "markdown",
      "source": [
        "1) Write a program to merge two dictionaries into one. If there are overlapping keys, sum their values.\n",
        "\n",
        "2) Write a Python program to create an empty dictionary.\n",
        "\n",
        "3) Write a Python script to iterate over a dictionary and print all key-value pairs.\n",
        "\n",
        "4) Write a Python program to remove the key-value pair with key 'age' from dictionary\n",
        "\n",
        "5) Write a program to sort a dictionary by its keys in ascending order and print the sorted dictionary.\n",
        "\n",
        "6) Given a dictionary students_scores = {'Alice': 85, 'Bob': 90}, update the score for 'Alice' to 95. If 'Charlie' does not exist in the dictionary, add 'Charlie' with a default score of 60.\n",
        "\n",
        "7) Write a Python program to print all the values in dictionary:\n",
        "\n",
        "8) Given a dictionary item_prices = {'apple': 1.00, 'banana': 0.50}, calculate the total price of all items. Then, apply a 10% discount to all items and update the dictionary."
      ],
      "metadata": {
        "id": "p-8JU6ihTgtP"
      }
    },
    {
      "cell_type": "markdown",
      "source": [
        "**Task 1**"
      ],
      "metadata": {
        "id": "wPPtva3FTtVZ"
      }
    },
    {
      "cell_type": "code",
      "execution_count": 49,
      "metadata": {
        "colab": {
          "base_uri": "https://localhost:8080/"
        },
        "id": "FMDR-U8kTZcI",
        "outputId": "d25e3f3f-9ce3-4c1f-b6e8-1f2a97d57271"
      },
      "outputs": [
        {
          "output_type": "stream",
          "name": "stdout",
          "text": [
            "{'one': 1, 'two': 2, 'three': 3, 'four': 4, 'six': 6, 'five': 5}\n",
            "{'one': 1, 'two': 2, 'three': 6, 'four': 8, 'six': 6, 'five': 5}\n"
          ]
        }
      ],
      "source": [
        "number1={\"one\":1,\"two\":2,\"three\":3,\"four\":4}\n",
        "number2={\"six\":6,\"three\":3,\"five\":5,\"four\":4}\n",
        "number1_copy=number1.copy()\n",
        "number1.update(number2)\n",
        "print(number1)\n",
        "for i,j in number1_copy.items():\n",
        "  for m,n in number2.items():\n",
        "    if i==m:\n",
        "      number1[i]=j+n\n",
        "print(number1)"
      ]
    },
    {
      "cell_type": "markdown",
      "source": [
        "**Task2**"
      ],
      "metadata": {
        "id": "ZdqeH3lRWl8P"
      }
    },
    {
      "cell_type": "code",
      "source": [
        "dictionary={}\n",
        "print(f\"Empty dictionary: {dictionary}\")"
      ],
      "metadata": {
        "colab": {
          "base_uri": "https://localhost:8080/"
        },
        "id": "xOSV92YYUikh",
        "outputId": "a265091e-43a7-4a18-b1ff-4fbd3c406de7"
      },
      "execution_count": 3,
      "outputs": [
        {
          "output_type": "stream",
          "name": "stdout",
          "text": [
            "Empty dictionary: {}\n"
          ]
        }
      ]
    },
    {
      "cell_type": "markdown",
      "source": [
        "**Task 3**"
      ],
      "metadata": {
        "id": "gsq0fiHVWo9A"
      }
    },
    {
      "cell_type": "code",
      "source": [
        "number3={\"one\":1,\"two\":2,\"three\":3,\"four\":4}\n",
        "for i,j in number3.items():\n",
        "  print(f\"Key: {i}, Value: {j}\")"
      ],
      "metadata": {
        "colab": {
          "base_uri": "https://localhost:8080/"
        },
        "id": "MzeztfI7VMBU",
        "outputId": "d30d9664-cd50-4412-a6a3-6afe4619ce94"
      },
      "execution_count": 4,
      "outputs": [
        {
          "output_type": "stream",
          "name": "stdout",
          "text": [
            "Key: one, Value: 1\n",
            "Key: two, Value: 2\n",
            "Key: three, Value: 3\n",
            "Key: four, Value: 4\n"
          ]
        }
      ]
    },
    {
      "cell_type": "markdown",
      "source": [
        "**Task 4**"
      ],
      "metadata": {
        "id": "8xu9UIVNWteJ"
      }
    },
    {
      "cell_type": "code",
      "source": [
        "person={\"name\":\"Narmin\",\"surname\":\"Mamedova\",\"age\":22,\"university\":\"BHOS\"}\n",
        "print(person)\n",
        "del person[\"age\"]\n",
        "print(person)\n",
        "# or person.pop(\"age\")"
      ],
      "metadata": {
        "colab": {
          "base_uri": "https://localhost:8080/"
        },
        "id": "8sJ0Z7NDVe7Q",
        "outputId": "051ac5f4-ef74-47e0-c7c7-9ab6ac886637"
      },
      "execution_count": 10,
      "outputs": [
        {
          "output_type": "stream",
          "name": "stdout",
          "text": [
            "{'name': 'Narmin', 'surname': 'Mamedova', 'age': 22, 'university': 'BHOS'}\n",
            "{'name': 'Narmin', 'surname': 'Mamedova', 'university': 'BHOS'}\n"
          ]
        }
      ]
    },
    {
      "cell_type": "markdown",
      "source": [
        "**Task 5**"
      ],
      "metadata": {
        "id": "fdz4KhrNWzpy"
      }
    },
    {
      "cell_type": "code",
      "source": [
        "person1={\"name\":\"Narmin\",\"surname\":\"Mamedova\",\"age\":22,\"university\":\"BHOS\"}\n",
        "print(person1)\n",
        "sorted_person1={}\n",
        "for i in sorted(person1):\n",
        "    sorted_person1[i]=person1[i]\n",
        "print(sorted_person1)"
      ],
      "metadata": {
        "colab": {
          "base_uri": "https://localhost:8080/"
        },
        "id": "jbrvcbioWPbF",
        "outputId": "0f85fa40-7ae2-49a3-a888-0c8012fbfa13"
      },
      "execution_count": 17,
      "outputs": [
        {
          "output_type": "stream",
          "name": "stdout",
          "text": [
            "{'name': 'Narmin', 'surname': 'Mamedova', 'age': 22, 'university': 'BHOS'}\n",
            "{'age': 22, 'name': 'Narmin', 'surname': 'Mamedova', 'university': 'BHOS'}\n"
          ]
        }
      ]
    },
    {
      "cell_type": "markdown",
      "source": [
        "**Task 6**"
      ],
      "metadata": {
        "id": "qkxDabn2Yabl"
      }
    },
    {
      "cell_type": "code",
      "source": [
        "students_scores = {'Alice': 85, 'Bob': 90}\n",
        "print(students_scores)\n",
        "students_scores[\"Alice\"]=95\n",
        "print(students_scores)\n",
        "students_scores.setdefault(\"Charlie\",60)\n",
        "print(students_scores)"
      ],
      "metadata": {
        "colab": {
          "base_uri": "https://localhost:8080/"
        },
        "id": "L2LBLOinWbq1",
        "outputId": "cbde3437-41c7-482b-ce60-47ad81c74084"
      },
      "execution_count": 22,
      "outputs": [
        {
          "output_type": "stream",
          "name": "stdout",
          "text": [
            "{'Alice': 85, 'Bob': 90}\n",
            "{'Alice': 95, 'Bob': 90}\n",
            "{'Alice': 95, 'Bob': 90, 'Charlie': 60}\n"
          ]
        }
      ]
    },
    {
      "cell_type": "markdown",
      "source": [
        "**Task 7**"
      ],
      "metadata": {
        "id": "NZJ0D0zzZY37"
      }
    },
    {
      "cell_type": "code",
      "source": [
        "number4={\"one\":1,\"two\":2,\"three\":3,\"four\":4}\n",
        "for i in number4.values():\n",
        "  print(f\"Value: {i}\")"
      ],
      "metadata": {
        "colab": {
          "base_uri": "https://localhost:8080/"
        },
        "id": "YyOCPHdMY6sZ",
        "outputId": "929d9a88-9f1c-4af8-914a-d364216545a6"
      },
      "execution_count": 23,
      "outputs": [
        {
          "output_type": "stream",
          "name": "stdout",
          "text": [
            "Value: 1\n",
            "Value: 2\n",
            "Value: 3\n",
            "Value: 4\n"
          ]
        }
      ]
    },
    {
      "cell_type": "markdown",
      "source": [
        "**Task 8**"
      ],
      "metadata": {
        "id": "fYYL_I9YZoX4"
      }
    },
    {
      "cell_type": "code",
      "source": [
        "item_prices = {'apple': 1.00, 'banana': 0.50}\n",
        "sum_prices=0\n",
        "for i in item_prices.values():\n",
        "  sum_prices+=i\n",
        "print(f\"Total prices of items: {sum_prices}\")\n",
        "new_items={}\n",
        "for i,j in item_prices.items():\n",
        "  new_items[i]=j*0.9\n",
        "print(f\"Discount applied items: {new_items}\")"
      ],
      "metadata": {
        "colab": {
          "base_uri": "https://localhost:8080/"
        },
        "id": "2FK7oL6oZmXm",
        "outputId": "cd7a494a-9d58-4db8-98da-b3ea8a0b6347"
      },
      "execution_count": 28,
      "outputs": [
        {
          "output_type": "stream",
          "name": "stdout",
          "text": [
            "Total prices of items: 1.5\n",
            "Discount applied items: {'apple': 0.9, 'banana': 0.45}\n"
          ]
        }
      ]
    }
  ]
}