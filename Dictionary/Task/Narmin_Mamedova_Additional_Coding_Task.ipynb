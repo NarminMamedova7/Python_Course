{
  "nbformat": 4,
  "nbformat_minor": 0,
  "metadata": {
    "colab": {
      "provenance": []
    },
    "kernelspec": {
      "name": "python3",
      "display_name": "Python 3"
    },
    "language_info": {
      "name": "python"
    }
  },
  "cells": [
    {
      "cell_type": "markdown",
      "source": [
        "**Exercise 1**"
      ],
      "metadata": {
        "id": "yZTZBwPzvnX1"
      }
    },
    {
      "cell_type": "code",
      "execution_count": 5,
      "metadata": {
        "colab": {
          "base_uri": "https://localhost:8080/"
        },
        "id": "zdZaqsEXvc76",
        "outputId": "9d58cfd4-7ba6-48bd-c19f-63a70e0065c0"
      },
      "outputs": [
        {
          "output_type": "stream",
          "name": "stdout",
          "text": [
            "first_name: Roya\n",
            "last_name: Mammadova\n",
            "age: 22\n",
            "city: Baku\n"
          ]
        }
      ],
      "source": [
        "# 1.Person\n",
        "person={\"first_name\":\"Roya\",\"last_name\":\"Mammadova\",\"age\":22,\"city\":\"Baku\"}\n",
        "for x,y in person.items():\n",
        "  print(f\"{x}: {y}\")"
      ]
    },
    {
      "cell_type": "code",
      "source": [
        "# 2.Favorite Numbers\n",
        "favorite_numbers={\"Roya\":8,\"Sara\":5,\"Sabina\":3,\"Fidan\":7,\"Aytan\":2}\n",
        "for x,y in favorite_numbers.items():\n",
        "  print(f\"{x}: {y}\")"
      ],
      "metadata": {
        "colab": {
          "base_uri": "https://localhost:8080/"
        },
        "id": "eNX9feBOwKmL",
        "outputId": "a1133256-69cf-4ec0-d87c-ad3a32240982"
      },
      "execution_count": 6,
      "outputs": [
        {
          "output_type": "stream",
          "name": "stdout",
          "text": [
            "Roya: 8\n",
            "Sara: 5\n",
            "Sabina: 3\n",
            "Fidan: 7\n",
            "Aytan: 2\n"
          ]
        }
      ]
    },
    {
      "cell_type": "code",
      "source": [
        "# 3.Glossary\n",
        "glossary={\"Variable\":\"A container for storing data values.\",\n",
        "\"String\":\"A sequence of characters.\",\n",
        "\"List\":\"An ordered collection of items.\",\n",
        "\"Dictionary\":\"A collection of key-value pairs.\",\n",
        "\"Function\":\"A block of code that performs a specific task.\"}\n",
        "for x,y in glossary.items():\n",
        "  print(f\"{x}:\\n\\t{y}\")"
      ],
      "metadata": {
        "colab": {
          "base_uri": "https://localhost:8080/"
        },
        "id": "x4oekK4mye8u",
        "outputId": "75795ad7-f86d-4aae-a6e2-bca80323f94a"
      },
      "execution_count": 9,
      "outputs": [
        {
          "output_type": "stream",
          "name": "stdout",
          "text": [
            "Variable:\n",
            "\tA container for storing data values.\n",
            "String:\n",
            "\tA sequence of characters.\n",
            "List:\n",
            "\tAn ordered collection of items.\n",
            "Dictionary:\n",
            "\tA collection of key-value pairs.\n",
            "Function:\n",
            "\tA block of code that performs a specific task.\n"
          ]
        }
      ]
    },
    {
      "cell_type": "markdown",
      "source": [
        "**Exercise 2**"
      ],
      "metadata": {
        "id": "RYeG2EE_zkF9"
      }
    },
    {
      "cell_type": "code",
      "source": [
        "# Polling\n",
        "favorite_languages={\n",
        "    'jen': ['python', 'rust'],\n",
        "    'sarah': ['c'],\n",
        "    'edward': ['rust', 'go'],\n",
        "    'phil': ['python', 'haskell'],\n",
        "}\n",
        "favorite_languages2={\n",
        "    'narmin': ['python','c'],\n",
        "    'edward': ['rust', 'go'],\n",
        "    'roya': ['kotlin','c++'],\n",
        "    'sarah': ['c']\n",
        "}\n",
        "for i in favorite_languages2:\n",
        "  if i in favorite_languages:\n",
        "    print(f\"{i.title()}, thanks for responding!\")\n",
        "  else:\n",
        "    print(f\"{i.title()}, please take the poll!\")\n"
      ],
      "metadata": {
        "colab": {
          "base_uri": "https://localhost:8080/"
        },
        "id": "_ZYitkZ3zZPK",
        "outputId": "0c2c5eca-5c0e-48ba-98d7-5a4f42fba0ae"
      },
      "execution_count": 12,
      "outputs": [
        {
          "output_type": "stream",
          "name": "stdout",
          "text": [
            "Narmin, please take the poll!\n",
            "Edward, thanks for responding!\n",
            "Roya, please take the poll!\n",
            "Sarah, thanks for responding!\n"
          ]
        }
      ]
    },
    {
      "cell_type": "code",
      "source": [
        "# Pets\n",
        "pet1={\"turtle\":\"Narmin\"}\n",
        "pet2={\"cat\":\"Sara\"}\n",
        "pet3={\"dog\":\"Roya\"}\n",
        "pet4={\"snake\":\"Aytan\"}\n",
        "pet5={\"rabbit\":\"Fidan\"}\n",
        "pets=[pet1,pet2,pet3,pet4,pet5]\n",
        "for i in pets:\n",
        "  for x,y in i.items():\n",
        "    print(f\"Animal: {x}, Owner: {y}\")"
      ],
      "metadata": {
        "colab": {
          "base_uri": "https://localhost:8080/"
        },
        "id": "P0zECQBc1wGf",
        "outputId": "97225164-193f-452a-c8aa-f4e54161fb2d"
      },
      "execution_count": 22,
      "outputs": [
        {
          "output_type": "stream",
          "name": "stdout",
          "text": [
            "Animal: turtle, Owner: Narmin\n",
            "Animal: cat, Owner: Sara\n",
            "Animal: dog, Owner: Roya\n",
            "Animal: snake, Owner: Aytan\n",
            "Animal: rabbit, Owner: Fidan\n"
          ]
        }
      ]
    },
    {
      "cell_type": "code",
      "source": [
        "# Favorite Places\n",
        "favorite_places={\"Narmin\":\"Turkey\",\"Roya\":\"Italy\",\"Sara\":\"Switzerland\"}\n",
        "for x,y in favorite_places.items():\n",
        "  print(f\"{x}: {y}\")"
      ],
      "metadata": {
        "colab": {
          "base_uri": "https://localhost:8080/"
        },
        "id": "DELBHj6_2-Uk",
        "outputId": "97116cda-8d80-48f2-d797-422da6bab504"
      },
      "execution_count": 23,
      "outputs": [
        {
          "output_type": "stream",
          "name": "stdout",
          "text": [
            "Narmin: Turkey\n",
            "Roya: Italy\n",
            "Sara: Switzerland\n"
          ]
        }
      ]
    },
    {
      "cell_type": "code",
      "source": [
        "# Cities\n",
        "cities={\"Baku\": \"Azerbaijan, 2 million population, it is the biggest city in the whole Caucasus region.\",\n",
        "\"Milano\": \"Italy, 1.4 million population, it has a church decorated with bones.\",\n",
        "\"Paris\": \"France, 2.1 million population, it is the fourth-most populated city in the European Union.\"\n",
        "}\n",
        "for x,y in cities.items():\n",
        "  print(f\"{x}:\\n{y}\")"
      ],
      "metadata": {
        "colab": {
          "base_uri": "https://localhost:8080/"
        },
        "id": "cQdoU86N5LJl",
        "outputId": "84510fd0-b57a-44e3-899e-6b7daf903722"
      },
      "execution_count": 25,
      "outputs": [
        {
          "output_type": "stream",
          "name": "stdout",
          "text": [
            "Baku:\n",
            "Azerbaijan, 2 million population, it is the biggest city in the whole Caucasus region.\n",
            "Milano:\n",
            "Italy, 1.4 million population, it has a church decorated with bones.\n",
            "Paris:\n",
            "France, 2.1 million population, it is the fourth-most populated city in the European Union.\n"
          ]
        }
      ]
    }
  ]
}