{
  "nbformat": 4,
  "nbformat_minor": 0,
  "metadata": {
    "colab": {
      "provenance": []
    },
    "kernelspec": {
      "name": "python3",
      "display_name": "Python 3"
    },
    "language_info": {
      "name": "python"
    }
  },
  "cells": [
    {
      "cell_type": "markdown",
      "source": [
        "**Task 1**"
      ],
      "metadata": {
        "id": "Ia5vXfOFVdpd"
      }
    },
    {
      "cell_type": "code",
      "execution_count": null,
      "metadata": {
        "colab": {
          "base_uri": "https://localhost:8080/"
        },
        "id": "OyssE7NvVaG3",
        "outputId": "ecbf79e7-78ec-4993-db58-ca2d8c010884"
      },
      "outputs": [
        {
          "output_type": "stream",
          "name": "stdout",
          "text": [
            "Enter a number: 2\n",
            "True\n"
          ]
        }
      ],
      "source": [
        "def is_even(n):\n",
        "  if n%2==0:\n",
        "    print(True)\n",
        "  else:\n",
        "    print(False)\n",
        "n=int(input(\"Enter a number: \"))\n",
        "is_even(n)"
      ]
    },
    {
      "cell_type": "markdown",
      "source": [
        "**Task 2**"
      ],
      "metadata": {
        "id": "bSsR6BpIV9Cm"
      }
    },
    {
      "cell_type": "code",
      "source": [
        "def is_prime(n):\n",
        "  count=0\n",
        "  i=1\n",
        "  while i<(n+1):\n",
        "    if n%i==0:\n",
        "      count+=1\n",
        "    i+=1\n",
        "  if count>2:\n",
        "    print(\"It is not prime number\")\n",
        "  else:\n",
        "    print(\"It is prime number\")\n",
        "n=int(input(\"Enter a number: \"))\n",
        "is_prime(n)"
      ],
      "metadata": {
        "colab": {
          "base_uri": "https://localhost:8080/"
        },
        "id": "8yaZAhZHVyQS",
        "outputId": "182f387a-9423-4ac3-d438-dbcac4130720"
      },
      "execution_count": null,
      "outputs": [
        {
          "output_type": "stream",
          "name": "stdout",
          "text": [
            "Enter a number: 8\n",
            "It is not prime number\n"
          ]
        }
      ]
    },
    {
      "cell_type": "markdown",
      "source": [
        "**Task 3**"
      ],
      "metadata": {
        "id": "UOf4NV1oWxP0"
      }
    },
    {
      "cell_type": "code",
      "source": [
        "def multiply_list(n):\n",
        "  product=1\n",
        "  for i in n:\n",
        "    product*=i\n",
        "  return product\n",
        "list1=[8, 2, 3, -1, 7]\n",
        "multiply_list(list1)"
      ],
      "metadata": {
        "colab": {
          "base_uri": "https://localhost:8080/"
        },
        "id": "rlaRI722WzFS",
        "outputId": "3f551e55-6668-4411-aa40-d575fd2a2a8c"
      },
      "execution_count": null,
      "outputs": [
        {
          "output_type": "execute_result",
          "data": {
            "text/plain": [
              "-336"
            ]
          },
          "metadata": {},
          "execution_count": 4
        }
      ]
    },
    {
      "cell_type": "markdown",
      "source": [
        "**Task 4**"
      ],
      "metadata": {
        "id": "Z-FXi8a-XTBE"
      }
    },
    {
      "cell_type": "code",
      "source": [
        "def count_upper_lower(n):\n",
        "  count_upper=0\n",
        "  count_lower=0\n",
        "  for i in n:\n",
        "    if i.isalpha():\n",
        "      if i==i.lower():\n",
        "        count_lower+=1\n",
        "      elif i==i.upper():\n",
        "        count_upper+=1\n",
        "  print(\"No. of Upper case characters: \", count_upper)\n",
        "  print(\"No. of Lower case characters: \", count_lower)\n",
        "n=input(\"Enter a string: \")\n",
        "count_upper_lower(n)"
      ],
      "metadata": {
        "colab": {
          "base_uri": "https://localhost:8080/"
        },
        "id": "-w0cptQdXRnm",
        "outputId": "966f3cb2-7af2-4047-a0f5-5b227e25dc92"
      },
      "execution_count": null,
      "outputs": [
        {
          "output_type": "stream",
          "name": "stdout",
          "text": [
            "Enter a string: 'The quick Brow Fox'\n",
            "No. of Upper case characters:  3\n",
            "No. of Lower case characters:  12\n"
          ]
        }
      ]
    },
    {
      "cell_type": "markdown",
      "source": [
        "**Task 5**"
      ],
      "metadata": {
        "id": "JiKJZN4QbQjs"
      }
    },
    {
      "cell_type": "code",
      "source": [
        "list2=[]\n",
        "def square_list():\n",
        "  i=1\n",
        "  while i<31:\n",
        "    list2.append(i**2)\n",
        "    i+=1\n",
        "  return list2\n",
        "square_list()"
      ],
      "metadata": {
        "colab": {
          "base_uri": "https://localhost:8080/"
        },
        "id": "kAlqSh56Yo85",
        "outputId": "c13aec9e-8894-45e7-d699-104a86c583fb"
      },
      "execution_count": null,
      "outputs": [
        {
          "output_type": "execute_result",
          "data": {
            "text/plain": [
              "[1,\n",
              " 4,\n",
              " 9,\n",
              " 16,\n",
              " 25,\n",
              " 36,\n",
              " 49,\n",
              " 64,\n",
              " 81,\n",
              " 100,\n",
              " 121,\n",
              " 144,\n",
              " 169,\n",
              " 196,\n",
              " 225,\n",
              " 256,\n",
              " 289,\n",
              " 324,\n",
              " 361,\n",
              " 400,\n",
              " 441,\n",
              " 484,\n",
              " 529,\n",
              " 576,\n",
              " 625,\n",
              " 676,\n",
              " 729,\n",
              " 784,\n",
              " 841,\n",
              " 900]"
            ]
          },
          "metadata": {},
          "execution_count": 29
        }
      ]
    },
    {
      "cell_type": "markdown",
      "source": [
        "**Task 6**"
      ],
      "metadata": {
        "id": "ESPUigFQcbEC"
      }
    },
    {
      "cell_type": "code",
      "source": [
        "def armstrong_number(n):\n",
        "  sum1=0\n",
        "  for i in str(n):\n",
        "    sum1+=int(i)**len(str(n))\n",
        "  if (sum1==n):\n",
        "    print(\"It is armstrong number\")\n",
        "  else:\n",
        "    print(\"It is not armstrong number\")\n",
        "n=int(input(\"Enter a number: \"))\n",
        "armstrong_number(n)"
      ],
      "metadata": {
        "colab": {
          "base_uri": "https://localhost:8080/"
        },
        "id": "K-w9hXPYcMED",
        "outputId": "79b0bc56-d8f9-462f-970c-83dcba629025"
      },
      "execution_count": null,
      "outputs": [
        {
          "output_type": "stream",
          "name": "stdout",
          "text": [
            "Enter a number: 1644\n",
            "It is not armstrong number\n"
          ]
        }
      ]
    },
    {
      "cell_type": "markdown",
      "source": [
        "**Task 7**"
      ],
      "metadata": {
        "id": "4PqxnhdzdPgs"
      }
    },
    {
      "cell_type": "code",
      "source": [
        "def sum_digits(n):\n",
        "  summ=0\n",
        "  for i in str(n):\n",
        "    summ+=int(i)\n",
        "  return summ\n",
        "n=int(input(\"Enter a number: \"))\n",
        "sum_digits(n)"
      ],
      "metadata": {
        "colab": {
          "base_uri": "https://localhost:8080/"
        },
        "id": "ngBb8x92cnho",
        "outputId": "37ab5609-a2e5-492b-a40f-6d3fe6991c7d"
      },
      "execution_count": null,
      "outputs": [
        {
          "name": "stdout",
          "output_type": "stream",
          "text": [
            "Enter a number: 124954\n"
          ]
        },
        {
          "output_type": "execute_result",
          "data": {
            "text/plain": [
              "25"
            ]
          },
          "metadata": {},
          "execution_count": 38
        }
      ]
    },
    {
      "cell_type": "markdown",
      "source": [
        "**Task 8**"
      ],
      "metadata": {
        "id": "9HMo-LuCdx58"
      }
    },
    {
      "cell_type": "code",
      "source": [
        "def count_divisors(n):\n",
        "  i=1\n",
        "  count=0\n",
        "  while i<n+1:\n",
        "    if n%i==0:\n",
        "      count+=1\n",
        "    i+=1\n",
        "  return count\n",
        "n=int(input(\"Enter a number: \"))\n",
        "count_divisors(n)"
      ],
      "metadata": {
        "colab": {
          "base_uri": "https://localhost:8080/"
        },
        "id": "zOBNNMK0dWhJ",
        "outputId": "06aa9b71-0e22-4f14-df35-b1bd9ca804d1"
      },
      "execution_count": null,
      "outputs": [
        {
          "name": "stdout",
          "output_type": "stream",
          "text": [
            "Enter a number: 15\n"
          ]
        },
        {
          "output_type": "execute_result",
          "data": {
            "text/plain": [
              "4"
            ]
          },
          "metadata": {},
          "execution_count": 34
        }
      ]
    },
    {
      "cell_type": "markdown",
      "source": [
        "**Task 9**"
      ],
      "metadata": {
        "id": "ayhYIvcTek7g"
      }
    },
    {
      "cell_type": "code",
      "source": [
        "def fuel_cost(distance, fuel_cost=1):\n",
        "  return f\"{fuel_cost} $\"\n",
        "fuel_cost(distance=50, fuel_cost=20)"
      ],
      "metadata": {
        "colab": {
          "base_uri": "https://localhost:8080/",
          "height": 36
        },
        "id": "CJNbO_VVd23B",
        "outputId": "58293672-e547-4c7e-c8f3-171e77180e42"
      },
      "execution_count": 22,
      "outputs": [
        {
          "output_type": "execute_result",
          "data": {
            "text/plain": [
              "'20 $'"
            ],
            "application/vnd.google.colaboratory.intrinsic+json": {
              "type": "string"
            }
          },
          "metadata": {},
          "execution_count": 22
        }
      ]
    },
    {
      "cell_type": "markdown",
      "source": [
        "**Task 10**"
      ],
      "metadata": {
        "id": "IXL3fKx7e6Zj"
      }
    },
    {
      "cell_type": "code",
      "source": [
        "def hcf(m,n):\n",
        "  i=1\n",
        "  list3=[]\n",
        "  while i<m+1:\n",
        "    if m%i==0 and n%i==0:\n",
        "      list3.append(i)\n",
        "    i+=1\n",
        "  return max(list3)\n",
        "hcf(20,15)"
      ],
      "metadata": {
        "colab": {
          "base_uri": "https://localhost:8080/"
        },
        "id": "bA0P4-0Ve8mz",
        "outputId": "be021b9e-2ef7-473e-8c7a-efaaf960b4fc"
      },
      "execution_count": 15,
      "outputs": [
        {
          "output_type": "execute_result",
          "data": {
            "text/plain": [
              "5"
            ]
          },
          "metadata": {},
          "execution_count": 15
        }
      ]
    },
    {
      "cell_type": "code",
      "source": [],
      "metadata": {
        "id": "7ktVhhKxH7ek"
      },
      "execution_count": null,
      "outputs": []
    }
  ]
}